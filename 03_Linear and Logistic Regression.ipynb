{
 "cells": [
  {
   "cell_type": "markdown",
   "metadata": {},
   "source": [
    "# Lecture 3: Basic Models in TensorFlow\n",
    "## 1. Overview\n",
    "1. Review\n",
    "1. Linear regression in TensorFlow\n",
    "1. Optimizers\n",
    "1. Logistic regression on MNIST\n",
    "1. Loss functions\n"
   ]
  },
  {
   "cell_type": "markdown",
   "metadata": {},
   "source": [
    "[github](https://github.com/chiphuyen/tf-stanford-tutorials)\n",
    "- examples: \n",
    "    - 03_linear_regression_starter.py\n",
    "    - 03_logistic_regression_mnist_starter.py\n",
    "- data: fire_theft.xls"
   ]
  },
  {
   "cell_type": "markdown",
   "metadata": {},
   "source": [
    "## 2. Linear regression\n",
    "### example: Chicago fire theft\n",
    "- X: number of incidents of fire\n",
    "- Y: number of incidents of theft\n",
    "- goal: Predict Y from X\n",
    "- model: $Y_{predicted} = w * X + b$  \n",
    "$(Y - Y_{predicted})^2$\n",
    "\n",
    "### Phase 1: Assemble graph\n",
    "- Step 1: Read in data"
   ]
  },
  {
   "cell_type": "code",
   "execution_count": null,
   "metadata": {},
   "outputs": [],
   "source": [
    "import numpy as np\n",
    "import matplotlib.pyplot as plt\n",
    "import tensorflow as tf\n",
    "import xlrd"
   ]
  },
  {
   "cell_type": "code",
   "execution_count": null,
   "metadata": {
    "collapsed": true
   },
   "outputs": [],
   "source": [
    "DATA_FILE = 'data/fire_theft.xls'\n",
    "\n",
    "book = xlrd.open_workbook(DATA_FILE, encoding_override='utf-8')\n",
    "sheet = book.sheet_by_index(0)\n",
    "data = np.asarray([sheet.row_values(i) for i in range(1, sheet.nrows)])\n",
    "n_samples = sheet.nrows - 1"
   ]
  },
  {
   "cell_type": "markdown",
   "metadata": {},
   "source": [
    "- Step 2: Create placeholders for inputs and labels"
   ]
  },
  {
   "cell_type": "code",
   "execution_count": null,
   "metadata": {
    "collapsed": true
   },
   "outputs": [],
   "source": [
    "X = tf.placeholder(tf.float32, name='X')\n",
    "Y = tf.placeholder(tf.float32, name='Y')"
   ]
  },
  {
   "cell_type": "markdown",
   "metadata": {},
   "source": [
    "- Step 3: Create weight and bias  \n",
    "`tf.Variable(initial_value=None, trainable=True, collections=None, name=None, dtype=None, ...)`"
   ]
  },
  {
   "cell_type": "code",
   "execution_count": null,
   "metadata": {
    "collapsed": true
   },
   "outputs": [],
   "source": [
    "w = tf.Variable(0.0, name='weights')\n",
    "b = tf.Variable(0.0, name='bias')"
   ]
  },
  {
   "cell_type": "markdown",
   "metadata": {},
   "source": [
    "- Step 4: Build model to predict Y"
   ]
  },
  {
   "cell_type": "code",
   "execution_count": null,
   "metadata": {
    "collapsed": true
   },
   "outputs": [],
   "source": [
    "Y_predicted = X * w + b "
   ]
  },
  {
   "cell_type": "markdown",
   "metadata": {},
   "source": [
    "- Step 5: Specify loss function"
   ]
  },
  {
   "cell_type": "code",
   "execution_count": null,
   "metadata": {
    "collapsed": true
   },
   "outputs": [],
   "source": [
    "loss = tf.square(Y - Y_predicted, name='loss')"
   ]
  },
  {
   "cell_type": "markdown",
   "metadata": {},
   "source": [
    "- Step 6: Create optimizer"
   ]
  },
  {
   "cell_type": "code",
   "execution_count": null,
   "metadata": {
    "collapsed": true
   },
   "outputs": [],
   "source": [
    "optimizer = tf.train.GradientDescentOptimizer(learning_rate=0.001).minimize(loss)"
   ]
  },
  {
   "cell_type": "markdown",
   "metadata": {},
   "source": [
    "### Phase 2: Train the model\n",
    "- Initialize variables\n",
    "- Run optimizer op\n",
    "（with data fed into placeholders for inputs and labels）  \n",
    "\n",
    "### See model in TensorBoard\n",
    "- Step 1: `writer = tf.summary.FileWriter('./my_graph/03/linear_reg', sess.graph)`\n",
    "- Step 2: `$ tensorboard --logdir='./my_graph'`"
   ]
  },
  {
   "cell_type": "code",
   "execution_count": null,
   "metadata": {},
   "outputs": [],
   "source": [
    "with tf.Session() as sess:\n",
    "\t# Step 7: initialize the necessary variables, in this case, w and b\n",
    "\tsess.run(tf.global_variables_initializer()) \n",
    "\t\n",
    "\twriter = tf.summary.FileWriter('./my_graph/03/linear_reg', sess.graph)\n",
    "\t\n",
    "\t# Step 8: train the model\n",
    "\tfor i in range(100): # train the model 100 times\n",
    "\t\ttotal_loss = 0\n",
    "\t\tfor x, y in data:\n",
    "\t\t\t# Session runs train_op and fetch values of loss\n",
    "\t\t\t_, l = sess.run([optimizer, loss], feed_dict={X: x, Y:y}) \n",
    "\t\t\ttotal_loss += l\n",
    "\t\tprint('Epoch {0}: {1}'.format(i, total_loss/n_samples))\n",
    "\n",
    "\t# close the writer when you're done using it\n",
    "\twriter.close() \n",
    "\t\n",
    "\t# Step 9: output the values of w and b\n",
    "\tw_value, b_value = sess.run([w, b]) "
   ]
  },
  {
   "cell_type": "markdown",
   "metadata": {},
   "source": [
    "### Plot the results with matplotlib\n"
   ]
  },
  {
   "cell_type": "code",
   "execution_count": null,
   "metadata": {},
   "outputs": [],
   "source": [
    "X, Y = data.T[0], data.T[1]\n",
    "plt.plot(X, Y, 'bo', label='Real data')\n",
    "plt.plot(X, X * w_value + b_value, 'r', label='Predicted data')\n",
    "plt.legend()\n",
    "plt.show()"
   ]
  },
  {
   "cell_type": "markdown",
   "metadata": {},
   "source": [
    "## 3. Optimizer\n",
    "    optimizer = tf.train.GradientDescentOptimizer(learning_rate=0.001).minimize(loss)\n",
    "    _, l = sess.run([optimizer, loss], feed_dict={X: x, Y:y})\n",
    "Session looks at all **trainable** variables that loss depends on and update them\n",
    "### list of optimizers in TF\n",
    "- tf.train.GradientDescentOptimizer\n",
    "- tf.train.AdagradOptimizer\n",
    "- tf.train.MomentumOptimizer\n",
    "- tf.train.AdamOptimizer\n",
    "- tf.train.ProximalGradientDescentOptimizer\n",
    "- tf.train.ProximalAdagradOptimizer\n",
    "- tf.train.RMSPropOptimizer  \n",
    "And more  \n",
    "### improve model: Huber loss\n",
    "- Robust to outliers\n",
    "- Intuition:  \n",
    "    - if the difference between the predicted value and the real value is small, square it  \n",
    "    - If it’s large, take its absolute value\n",
    "- Implementation: can't write $if\\ Y - Y_{predicted} < delta$"
   ]
  },
  {
   "cell_type": "code",
   "execution_count": null,
   "metadata": {
    "collapsed": true
   },
   "outputs": [],
   "source": [
    "def huber_loss(labels, predictions, delta=1.0):\n",
    "    residual = tf.abs(predictions - labels)\n",
    "    condition = tf.less(residual, delta)\n",
    "    small_res = 0.5 * tf.square(residual)\n",
    "    large_res = delta * residual - 0.5 * tf.square(delta)\n",
    "    return tf.select(condition, small_res, large_res)\n"
   ]
  },
  {
   "cell_type": "markdown",
   "metadata": {},
   "source": [
    "## 4. Logistic Regression\n",
    "### MNIST Database\n",
    "![MNIST](figures/03_01.png)  \n",
    "\n",
    "- Each image is a 28x28 array, flattened out to be a 1-d tensor of size 784\n",
    "- X: image of a handwritten digit\n",
    "- Y: the digit value\n",
    "- goal: Recognize the digit in the image\n",
    "- model: \n",
    "    - logits = X * w + b\n",
    "    - Y_predicted = softmax(logits)\n",
    "    - loss = cross_entropy(Y, Y_predicted)\n",
    "    \n",
    "### Batch ‘em up  \n",
    "    X = tf.placeholder(tf.float32, [batch_size, 784], name=\"image\")\n",
    "    Y = tf.placeholder(tf.float32, [batch_size, 10], name=\"label\")\n",
    "### Process data\n",
    "    from tensorflow.examples.tutorials.mnist import input_data\n",
    "    \n",
    "    # using TF Learn's built in function to load MNIST data to the folder data/mnist\n",
    "    MNIST = input_data.read_data_sets(\"/data/mnist\", one_hot=True)\n",
    "    \n",
    "    # MNIST.train: 55,000 examples\n",
    "    # MNIST.validation: 5,000 examples\n",
    "    # MNIST.test: 10,000 examples\n",
    "    \n",
    "### Phase 1: Assemble our graph\n",
    "- Step 2: Create placeholders for inputs and labels\n",
    "        X = tf.placeholder(tf.float32, [batch_size, 784], name=\"image\")\n",
    "        Y = tf.placeholder(tf.float32, [batch_size, 10], name=\"label\")\n",
    "- Step 3: Create weight and bias\n",
    "        w = tf.Variable(tf.random_normal(shape=[784, 10], stddev=0.01), name='weights')\n",
    "        b = tf.Variable(tf.zeros([1, 10]), name=\"bias\")\n",
    "- Step 4: Build model to predict Y  \n",
    "        # the model that returns the logits.\n",
    "            # this logits will be later passed through softmax layer\n",
    "        logits = tf.matmul(X, w) + b \n",
    "- Step 5: Specify loss function \n",
    "        # use cross entropy of softmax of logits as the loss function\n",
    "        entropy = tf.nn.softmax_cross_entropy_with_logits(logits, Y, name='loss')\n",
    "        loss = tf.reduce_mean(entropy) # computes the mean over all the examples in the batch\n",
    "- Step 6: Create optimizer\n",
    "        optimizer = tf.train.GradientDescentOptimizer(learning_rate).minimize(loss)\n",
    "        \n",
    "    - add new operations to the computation graph: ones to compute gradients, compute parameter update steps, and apply update steps to the parameters\n",
    "    - when run, will apply the gradient descent updates to the parameters. Training the model can therefore be accomplished by repeatedly running optimizer\n",
    "\n"
   ]
  },
  {
   "cell_type": "markdown",
   "metadata": {},
   "source": [
    "### Phase 2: Train our model\n",
    "\n",
    "(https://www.tensorflow.org/get_started/mnist/pros)  \n",
    "\n",
    "        with tf.Session() as sess:\n",
    "            # to visualize using TensorBoard\n",
    "            writer = tf.summary.FileWriter('./my_graph/03/logistic_reg', sess.graph)\n",
    "\n",
    "            start_time = time.time()\n",
    "            sess.run(tf.global_variables_initializer())\t\n",
    "            n_batches = int(mnist.train.num_examples/batch_size)\n",
    "            for i in range(n_epochs): # train the model n_epochs times\n",
    "                total_loss = 0\n",
    "\n",
    "                for _ in range(n_batches):\n",
    "                    X_batch, Y_batch = mnist.train.next_batch(batch_size)\n",
    "                    _, loss_batch = sess.run([optimizer, loss], feed_dict={X: X_batch, Y:Y_batch}) \n",
    "                    total_loss += loss_batch\n",
    "                print 'Average loss epoch {0}: {1}'.format(i, total_loss/n_batches)\n",
    "\n",
    "            print 'Total time: {0} seconds'.format(time.time() - start_time)\n",
    "\n",
    "            print('Optimization Finished!') # should be around 0.35 after 25 epochs\n",
    "\n",
    "            # test the model\n",
    "            n_batches = int(mnist.test.num_examples/batch_size)\n",
    "            total_correct_preds = 0\n",
    "            for i in range(n_batches):\n",
    "                X_batch, Y_batch = mnist.test.next_batch(batch_size)\n",
    "                _, loss_batch, logits_batch = sess.run([optimizer, loss, logits], feed_dict={X: X_batch, Y:Y_batch}) \n",
    "                preds = tf.nn.softmax(logits_batch)\n",
    "                correct_preds = tf.equal(tf.argmax(preds, 1), tf.argmax(Y_batch, 1))\n",
    "                accuracy = tf.reduce_sum(tf.cast(correct_preds, tf.float32)) # need numpy.count_nonzero(boolarr) :(\n",
    "                total_correct_preds += sess.run(accuracy)\t\n",
    "\n",
    "            print 'Accuracy {0}'.format(total_correct_preds/mnist.test.num_examples)\n",
    "\n",
    "            writer.close()"
   ]
  },
  {
   "cell_type": "code",
   "execution_count": null,
   "metadata": {
    "collapsed": true
   },
   "outputs": [],
   "source": []
  }
 ],
 "metadata": {
  "kernelspec": {
   "display_name": "Python 3",
   "language": "python",
   "name": "python3"
  },
  "language_info": {
   "codemirror_mode": {
    "name": "ipython",
    "version": 3
   },
   "file_extension": ".py",
   "mimetype": "text/x-python",
   "name": "python",
   "nbconvert_exporter": "python",
   "pygments_lexer": "ipython3",
   "version": "3.6.1"
  }
 },
 "nbformat": 4,
 "nbformat_minor": 2
}
