{
 "cells": [
  {
   "cell_type": "markdown",
   "metadata": {},
   "source": [
    "# Lecture 2: Operations\n",
    "## Overview\n",
    "1. Basic operations\n",
    "2. Tensor types\n",
    "3. Project speed dating\n",
    "4. Placeholders and feeding inputs\n",
    "5. Lazy loading\n"
   ]
  },
  {
   "cell_type": "markdown",
   "metadata": {},
   "source": [
    "## Fun with TensorBoard"
   ]
  },
  {
   "cell_type": "code",
   "execution_count": 3,
   "metadata": {},
   "outputs": [
    {
     "name": "stdout",
     "output_type": "stream",
     "text": [
      "5\n"
     ]
    }
   ],
   "source": [
    "import tensorflow as tf\n",
    "a = tf.constant(2)\n",
    "b = tf.constant(3)\n",
    "x = tf.add(a, b)\n",
    "with tf.Session() as sess:\n",
    "    # add this line to use TensorBoard.\n",
    "    writer = tf.summary.FileWriter('./graphs', sess.graph) #Create the summary writer after graph definition and before running your session\n",
    "    print(sess.run(x))\n",
    "writer.close() # close the writer when you’re done using it"
   ]
  },
  {
   "cell_type": "markdown",
   "metadata": {},
   "source": [
    "Run it:\n",
    "- Go to terminal, run:\n",
    "\n",
    "    ```\n",
    "    python [yourprogram].py\n",
    "\n",
    "    tensorboard --logdir=\"./graphs\" --port 6006\n",
    "    ```\n",
    "        \n",
    "- open browser and go to: http://localhost:6006/\n",
    "\n",
    "Custom names in the graph:"
   ]
  },
  {
   "cell_type": "code",
   "execution_count": 4,
   "metadata": {},
   "outputs": [
    {
     "name": "stdout",
     "output_type": "stream",
     "text": [
      "5\n"
     ]
    }
   ],
   "source": [
    "import tensorflow as tf\n",
    "a = tf.constant(2, name=\"a\")\n",
    "b = tf.constant(3, name=\"b\")\n",
    "x = tf.add(a, b, name=\"add\")\n",
    "with tf.Session() as sess:\n",
    "    writer = tf.summary.FileWriter(\"./graphs\", sess.graph)\n",
    "    print(sess.run(x)) # >> 5\n",
    "writer.close()"
   ]
  },
  {
   "cell_type": "markdown",
   "metadata": {},
   "source": [
    "## More constants\n"
   ]
  },
  {
   "cell_type": "markdown",
   "metadata": {},
   "source": [
    "`tf.constant(value, dtype=None, shape=None, name='Const', verify_shape=False)`\n",
    "### 1.  create a constant: (similar to numpy)"
   ]
  },
  {
   "cell_type": "code",
   "execution_count": 1,
   "metadata": {},
   "outputs": [
    {
     "name": "stdout",
     "output_type": "stream",
     "text": [
      "[[2 3]\n",
      " [4 5]] [[0 2]\n",
      " [4 6]]\n"
     ]
    }
   ],
   "source": [
    "import tensorflow as tf\n",
    "a = tf.constant([2, 2], name=\"a\")\n",
    "b = tf.constant([[0, 1], [2, 3]], name=\"b\")\n",
    "x = tf.add(a, b, name=\"add\")\n",
    "y = tf.multiply(a, b, name=\"mul\")\n",
    "with tf.Session() as sess:\n",
    "    x, y = sess.run([x, y])\n",
    "print(x, y)\n",
    "# >> [5 8] [6 12]"
   ]
  },
  {
   "cell_type": "markdown",
   "metadata": {},
   "source": [
    "### 2. tensors filled with a specific value:"
   ]
  },
  {
   "cell_type": "markdown",
   "metadata": {},
   "source": [
    "1. `tf.zeros(shape, dtype=tf.float32, name=None)`\n",
    "    - ~ `numpy.zeros`\n",
    "    - creates a tensor of shape and all elements will be zeros (when ran in session)\n",
    "    - more compact than other constants in the graph def → faster startup (esp.in distributed)\n",
    "1. `tf.zeros_like(input_tensor, dtype=None, name=None, optimize=True)`\n",
    "    - ~ `numpy.zeros_like`\n",
    "    - creates a tensor of shape and type (unless type is specified) as the input_tensor but all elements are zeros\n",
    "1. `tf.ones(shape, dtype=tf.float32, name=None)`\n",
    "1. `tf.ones_like(input_tensor, dtype=None, name=None, optimize=True)`\n",
    "1. `tf.fill(dims, value, name=None) `"
   ]
  },
  {
   "cell_type": "code",
   "execution_count": 14,
   "metadata": {},
   "outputs": [
    {
     "name": "stdout",
     "output_type": "stream",
     "text": [
      "x:\n",
      "[[0 0 0]\n",
      " [0 0 0]] \n",
      "y:\n",
      "[[0 0 0]\n",
      " [0 0 0]] \n",
      "z:\n",
      "[[8 8 8]\n",
      " [8 8 8]]\n"
     ]
    }
   ],
   "source": [
    "x = tf.zeros([2, 3], tf.int32)  \n",
    "y = tf.zeros_like(x)\n",
    "z = tf.fill([2,3],8)\n",
    "with tf.Session() as sess:\n",
    "    x,y,z = sess.run([x,y,z])\n",
    "print('x:\\n{} \\ny:\\n{} \\nz:\\n{}'.format(x,y,z))\n",
    "\n"
   ]
  },
  {
   "cell_type": "markdown",
   "metadata": {
    "collapsed": true
   },
   "source": [
    "### 3. constants as sequences\n",
    "1. tf.linspace(start, stop, num, name=None)\n",
    "    - slightly different from np.linspace\n",
    "2. tf.range(start, limit=None, delta=1, dtype=None, name='range')  \n",
    "ensor objects are **not iterable**\n",
    "`for _ in tf.range(4): # TypeError`"
   ]
  },
  {
   "cell_type": "code",
   "execution_count": 15,
   "metadata": {},
   "outputs": [
    {
     "name": "stdout",
     "output_type": "stream",
     "text": [
      "x:\n",
      "[ 10.  11.  12.  13.] \n",
      "y:\n",
      "[ 3  6  9 12 15] \n",
      "z:\n",
      "[0 1 2 3 4]\n"
     ]
    }
   ],
   "source": [
    "x = tf.linspace(10.0, 13.0, 4)\n",
    "y = tf.range(3,18,3) # start = 3, stop = 18, delta = 3\n",
    "z = tf.range(5) # limit = 5\n",
    "with tf.Session() as sess:\n",
    "    x,y,z = sess.run([x,y,z])\n",
    "print('x:\\n{} \\ny:\\n{} \\nz:\\n{}'.format(x,y,z))"
   ]
  },
  {
   "cell_type": "markdown",
   "metadata": {
    "collapsed": true
   },
   "source": [
    "### 4. Randomly Generated Constants\n",
    "1. `tf.random_normal(shape, mean=0.0, stddev=1.0, dtype=tf.float32, seed=None, name=None)`\n",
    "2. `tf.truncated_normal(shape, mean=0.0, stddev=1.0, dtype=tf.float32, seed=None, name=None)`\n",
    "3. `tf.random_uniform(shape, minval=0, maxval=None, dtype=tf.float32, seed=None, name=None)`\n",
    "4. `tf.random_shuffle(value, seed=None, name=None)`\n",
    "5. `tf.random_crop(value, size, seed=None, name=None)`\n",
    "6. `tf.multinomial(logits, num_samples, seed=None, name=None)`\n",
    "7. `tf.random_gamma(shape, alpha, beta=None, dtype=tf.float32, seed=None, name=None)`\n",
    "\n",
    "8. `tf.set_random_seed(seed)`\n",
    "\n",
    "## Operations\n",
    "![Table from “Fundamental of Deep Learning”](figures/02_01.png)\n"
   ]
  },
  {
   "cell_type": "code",
   "execution_count": 17,
   "metadata": {
    "collapsed": true
   },
   "outputs": [],
   "source": [
    "a = tf.constant([3, 6])\n",
    "b = tf.constant([2, 2])\n",
    "# tf.add(a, b) # >> [5 8]\n",
    "# tf.add_n([a, b, b]) # >> [7 10]. Equivalent to a + b + b\n",
    "# tf.multiply(a, b) # >> [6 12] because mul is element wise\n",
    "# tf.matmul(a, b) # >> ValueError\n",
    "# tf.matmul(tf.reshape(a, [1, 2]), tf.reshape(b, [2, 1])) # >> [[18]]\n",
    "# tf.div(a, b) # >> [1 3]\n",
    "# tf.mod(a, b) # >> [1 0]"
   ]
  },
  {
   "cell_type": "markdown",
   "metadata": {},
   "source": [
    "## TensorFlow Data Types\n",
    "TensorFlow takes Python natives types: boolean, numeric (int, float), strings\n",
    "### 0-d tensor (\"scalar\")\n"
   ]
  },
  {
   "cell_type": "code",
   "execution_count": 18,
   "metadata": {},
   "outputs": [
    {
     "data": {
      "text/plain": [
       "<tf.Tensor 'ones_like:0' shape=() dtype=int32>"
      ]
     },
     "execution_count": 18,
     "metadata": {},
     "output_type": "execute_result"
    }
   ],
   "source": [
    "t_0 = 19\n",
    "tf.zeros_like(t_0) # ==> 0\n",
    "tf.ones_like(t_0) # ==> 1"
   ]
  },
  {
   "cell_type": "markdown",
   "metadata": {},
   "source": [
    "### 1-d tensor (\"vector\")"
   ]
  },
  {
   "cell_type": "code",
   "execution_count": null,
   "metadata": {
    "collapsed": true
   },
   "outputs": [],
   "source": [
    "t_1 = ['apple', 'peach', 'banana']\n",
    "tf.zeros_like(t_1) # ==> ['' '' '']\n",
    "tf.ones_like(t_1) # ==> TypeError: Expected string, got 1 of type 'int' instead."
   ]
  },
  {
   "cell_type": "markdown",
   "metadata": {},
   "source": [
    "### 2x2 tensor (\"matrix\")"
   ]
  },
  {
   "cell_type": "code",
   "execution_count": null,
   "metadata": {
    "collapsed": true
   },
   "outputs": [],
   "source": [
    "t_2 = [[True, False, False],\n",
    "[False, False, True],\n",
    "[False, True, False]]\n",
    "tf.zeros_like(t_2) # ==> 2x2 tensor, all elements are False\n",
    "tf.ones_like(t_2) # ==> 2x2 tensor, all elements are True"
   ]
  },
  {
   "cell_type": "markdown",
   "metadata": {},
   "source": [
    "![TensorFlow Data Types](figures/02_02.png)"
   ]
  },
  {
   "cell_type": "markdown",
   "metadata": {
    "collapsed": true
   },
   "source": [
    "### TF vs NP data types\n",
    "- TensorFlow integrates seamlessly with NumPy\n",
    "- Can pass numpy types to TensorFlow ops\n",
    "- For `tf.Session.run(fetches)`: If the requested fetch is a Tensor , then the output will be a NumPy ndarray  \n",
    "**do NOT use Python native types for tensors** because TensorFlow has to infer Python type"
   ]
  },
  {
   "cell_type": "code",
   "execution_count": 2,
   "metadata": {},
   "outputs": [
    {
     "data": {
      "text/plain": [
       "<tf.Tensor 'ones:0' shape=(2, 2) dtype=float32>"
      ]
     },
     "execution_count": 2,
     "metadata": {},
     "output_type": "execute_result"
    }
   ],
   "source": [
    "import tensorflow as tf\n",
    "import numpy as np\n",
    "tf.int32 == np.int32 # True\n",
    "tf.ones([2, 2], np.float32) # ⇒ [[1.0 1.0], [1.0 1.0]]"
   ]
  },
  {
   "cell_type": "markdown",
   "metadata": {},
   "source": [
    "## Variables\n",
    "### 1. Problem about constants: stored in the graph definition\n",
    "- makes loading graphs expensive when constants are big\n",
    "- Only use constants for primitive types\n",
    "- Use variables or readers for more data that requires more memory"
   ]
  },
  {
   "cell_type": "code",
   "execution_count": 4,
   "metadata": {},
   "outputs": [
    {
     "name": "stdout",
     "output_type": "stream",
     "text": [
      "node {\n",
      "  name: \"ones\"\n",
      "  op: \"Const\"\n",
      "  attr {\n",
      "    key: \"dtype\"\n",
      "    value {\n",
      "      type: DT_FLOAT\n",
      "    }\n",
      "  }\n",
      "  attr {\n",
      "    key: \"value\"\n",
      "    value {\n",
      "      tensor {\n",
      "        dtype: DT_FLOAT\n",
      "        tensor_shape {\n",
      "          dim {\n",
      "            size: 2\n",
      "          }\n",
      "          dim {\n",
      "            size: 2\n",
      "          }\n",
      "        }\n",
      "        float_val: 1.0\n",
      "      }\n",
      "    }\n",
      "  }\n",
      "}\n",
      "node {\n",
      "  name: \"my_const\"\n",
      "  op: \"Const\"\n",
      "  attr {\n",
      "    key: \"dtype\"\n",
      "    value {\n",
      "      type: DT_FLOAT\n",
      "    }\n",
      "  }\n",
      "  attr {\n",
      "    key: \"value\"\n",
      "    value {\n",
      "      tensor {\n",
      "        dtype: DT_FLOAT\n",
      "        tensor_shape {\n",
      "          dim {\n",
      "            size: 2\n",
      "          }\n",
      "        }\n",
      "        tensor_content: \"\\000\\000\\200?\\000\\000\\000@\"\n",
      "      }\n",
      "    }\n",
      "  }\n",
      "}\n",
      "versions {\n",
      "  producer: 21\n",
      "}\n",
      "\n"
     ]
    }
   ],
   "source": [
    "import tensorflow as tf\n",
    "my_const = tf.constant([1.0, 2.0], name=\"my_const\")\n",
    "with tf.Session() as sess:\n",
    "    print(sess.graph.as_graph_def())\n",
    "# you will see value of my_const stored in the graph’s definition"
   ]
  },
  {
   "cell_type": "markdown",
   "metadata": {},
   "source": [
    "### 2. create variables"
   ]
  },
  {
   "cell_type": "code",
   "execution_count": 5,
   "metadata": {
    "collapsed": true
   },
   "outputs": [],
   "source": [
    "# create variable a with scalar value\n",
    "a = tf.Variable(2, name=\"scalar\")\n",
    "# create variable b as a vector\n",
    "b = tf.Variable([2, 3], name=\"vector\")\n",
    "# create variable c as a 2x2 matrix\n",
    "c = tf.Variable([[0, 1], [2, 3]], name=\"matrix\")\n",
    "# create variable W as 784 x 10 tensor, filled with zeros\n",
    "W = tf.Variable(tf.zeros([784,10]))"
   ]
  },
  {
   "cell_type": "markdown",
   "metadata": {},
   "source": [
    "`tf.Variable` not `tf.variable`  \n",
    "`tf.constant` not `tf.Constant`  \n",
    "- **`tf.Variable` is a class, but `tf.constant` is an op**\n",
    "- tf.Variable holds several ops  \n",
    "    - `x.initializer`:  init op\n",
    "    - `x.value()`:  read op\n",
    "    - `x.assign(...)`:  write op\n",
    "    - `x.assign_add(...)`  and more\n",
    "- have to **initialize** variables"
   ]
  },
  {
   "cell_type": "code",
   "execution_count": 6,
   "metadata": {
    "collapsed": true
   },
   "outputs": [],
   "source": [
    "# initializing all variables at once:\n",
    "init = tf.global_variables_initializer()\n",
    "with tf.Session() as sess:\n",
    "    sess.run(init)\n",
    "    \n",
    "# Initialize only a subset of variables:\n",
    "init_ab = tf.variables_initializer([a, b], name=\"init_ab\")\n",
    "with tf.Session() as sess:\n",
    "    sess.run(init_ab)\n",
    "    \n",
    "# Initialize a single variable\n",
    "W = tf.Variable(tf.zeros([784,10]))\n",
    "with tf.Session() as sess:\n",
    "    sess.run(W.initializer)"
   ]
  },
  {
   "cell_type": "markdown",
   "metadata": {},
   "source": [
    "### 3. `eval()` a variable\n"
   ]
  },
  {
   "cell_type": "code",
   "execution_count": 13,
   "metadata": {},
   "outputs": [
    {
     "name": "stdout",
     "output_type": "stream",
     "text": [
      "<tf.Variable 'Variable_5:0' shape=(700, 10) dtype=float32_ref>\n"
     ]
    }
   ],
   "source": [
    "# W is a random 700 x 100 variable object\n",
    "W = tf.Variable(tf.truncated_normal([700, 10]))\n",
    "with tf.Session() as sess:\n",
    "    sess.run(W.initializer)\n",
    "    print(W)"
   ]
  },
  {
   "cell_type": "code",
   "execution_count": 14,
   "metadata": {},
   "outputs": [
    {
     "name": "stdout",
     "output_type": "stream",
     "text": [
      "[[ 0.10173247  0.41137847  0.60416692 ...,  0.61058724  1.54879153\n",
      "   1.26241386]\n",
      " [ 0.19658576  1.73018301 -1.20196819 ...,  0.36177546  0.38009125\n",
      "   0.32686082]\n",
      " [ 0.70562273  0.92717385 -1.74096    ..., -0.08008771 -0.0218105\n",
      "  -0.44643229]\n",
      " ..., \n",
      " [-0.95996022  0.41936466  1.64461589 ...,  0.50300205 -1.11956382\n",
      "   0.40928677]\n",
      " [-0.49932933 -0.71199787  0.4709371  ...,  1.85623705  0.97819293\n",
      "  -0.42091134]\n",
      " [ 1.40349829 -1.13628864  0.32201138 ...,  0.90177363  0.40511495\n",
      "  -0.47675774]]\n"
     ]
    }
   ],
   "source": [
    "with tf.Session() as sess:\n",
    "    sess.run(W.initializer)\n",
    "    print(W.eval())"
   ]
  },
  {
   "cell_type": "markdown",
   "metadata": {},
   "source": [
    "### 4. `tf.Variable.assign()`"
   ]
  },
  {
   "cell_type": "code",
   "execution_count": 15,
   "metadata": {},
   "outputs": [
    {
     "name": "stdout",
     "output_type": "stream",
     "text": [
      "10\n"
     ]
    }
   ],
   "source": [
    "W = tf.Variable(10)\n",
    "W.assign(100)\n",
    "with tf.Session() as sess:\n",
    "    sess.run(W.initializer)\n",
    "    print (W.eval()) \n",
    "# W.assign(100) doesn’t assign the value 100\n",
    "# to W. It creates an assign op, and that op\n",
    "# needs to be run to take effect."
   ]
  },
  {
   "cell_type": "code",
   "execution_count": 16,
   "metadata": {},
   "outputs": [
    {
     "name": "stdout",
     "output_type": "stream",
     "text": [
      "100\n"
     ]
    }
   ],
   "source": [
    "W = tf.Variable(10)\n",
    "assign_op = W.assign(100)\n",
    "with tf.Session() as sess:\n",
    "    sess.run(assign_op) # assign op did the initialization, no need to initialize variable\n",
    "    print(W.eval())"
   ]
  },
  {
   "cell_type": "markdown",
   "metadata": {},
   "source": [
    "**initializer op is the assign op** that assigns the variable’s initial value to the variable itself."
   ]
  },
  {
   "cell_type": "code",
   "execution_count": 23,
   "metadata": {},
   "outputs": [
    {
     "name": "stdout",
     "output_type": "stream",
     "text": [
      "4\n"
     ]
    }
   ],
   "source": [
    "# create a variable whose original value is 2\n",
    "my_var = tf.Variable(2, name=\"my_var\")\n",
    "# assign a * 2 to a and call that op a_times_two\n",
    "my_var_times_two = my_var.assign(2 * my_var)\n",
    "with tf.Session() as sess:\n",
    "    sess.run(my_var.initializer)\n",
    "    sess.run(my_var_times_two) # >> 4\n",
    "    print(my_var.eval())"
   ]
  },
  {
   "cell_type": "markdown",
   "metadata": {},
   "source": [
    "### 5. `assign_add()` and `assign_sub()`\n",
    "can’t initialize the variable because need its original value"
   ]
  },
  {
   "cell_type": "code",
   "execution_count": 25,
   "metadata": {},
   "outputs": [
    {
     "name": "stdout",
     "output_type": "stream",
     "text": [
      "18\n"
     ]
    }
   ],
   "source": [
    "my_var = tf.Variable(10)\n",
    "with tf.Session() as sess:\n",
    "    sess.run(my_var.initializer)\n",
    "    # increment by 10\n",
    "    sess.run(my_var.assign_add(10)) # >> 20\n",
    "    # decrement by 2\n",
    "    sess.run(my_var.assign_sub(2)) # >> 18\n",
    "    print(my_var.eval())"
   ]
  },
  {
   "cell_type": "markdown",
   "metadata": {},
   "source": [
    "### 6. each session maintains its own copy of variable"
   ]
  },
  {
   "cell_type": "code",
   "execution_count": 27,
   "metadata": {},
   "outputs": [
    {
     "name": "stdout",
     "output_type": "stream",
     "text": [
      "20\n",
      "8\n"
     ]
    }
   ],
   "source": [
    "W = tf.Variable(10)\n",
    "sess1 = tf.Session()\n",
    "sess2 = tf.Session()\n",
    "sess1.run(W.initializer)\n",
    "sess2.run(W.initializer)\n",
    "print(sess1.run(W.assign_add(10)))\n",
    "print(sess2.run(W.assign_sub(2)))\n",
    "sess1.close()\n",
    "sess2.close()"
   ]
  },
  {
   "cell_type": "markdown",
   "metadata": {},
   "source": [
    "### 7. use a variable to initialize another variable"
   ]
  },
  {
   "cell_type": "code",
   "execution_count": null,
   "metadata": {
    "collapsed": true
   },
   "outputs": [],
   "source": [
    "# W is a random 700 x 100 tensor\n",
    "W = tf.Variable(tf.truncated_normal([700, 10]))\n",
    "\n",
    "U = tf.Variable(2 * W) # not so safe (but quite common)\n",
    "U = tf.Variable(2 * W.intialized_value()) # ensure that W is initialized before its value is used to initialize U"
   ]
  },
  {
   "cell_type": "markdown",
   "metadata": {},
   "source": [
    "## Sessions\n",
    "### 1. `Session` vs `InteractiveSession`\n",
    "an `InteractiveSession` makes itself the default"
   ]
  },
  {
   "cell_type": "code",
   "execution_count": 28,
   "metadata": {},
   "outputs": [
    {
     "name": "stdout",
     "output_type": "stream",
     "text": [
      "30.0\n"
     ]
    }
   ],
   "source": [
    "sess = tf.InteractiveSession()\n",
    "a = tf.constant(5.0)\n",
    "b = tf.constant(6.0)\n",
    "c = a * b\n",
    "# We can just use 'c.eval()' without specifying the context 'sess'\n",
    "print(c.eval())\n",
    "sess.close()"
   ]
  },
  {
   "cell_type": "markdown",
   "metadata": {},
   "source": [
    "### 2. `tf.Graph.control_dependencies(control_inputs)`\n",
    "defines which ops should be run first"
   ]
  },
  {
   "cell_type": "code",
   "execution_count": 29,
   "metadata": {
    "collapsed": true
   },
   "outputs": [],
   "source": [
    "## your graph g have 5 ops: a, b, c, d, e\n",
    "# with g.control_dependencies([a, b, c]):\n",
    "## 'd' and 'e' will only run after 'a', 'b', and 'c' have executed.\n",
    "# d = ...\n",
    "# e = …"
   ]
  },
  {
   "cell_type": "markdown",
   "metadata": {},
   "source": [
    "## Placeholder\n",
    "### 1. 2 phases of tf program\n",
    "- Assemble a graph\n",
    "    - Can assemble the graph first without knowing the values needed for computation (use placeholders)\n",
    "- Use a session to execute operations in the graph  \n",
    "\n",
    "### 2. why placeholders\n",
    "can later supply their own data when they need to execute the computation  \n",
    "\n",
    "### 3. `tf.placeholder(dtype, shape=None, name=None)`"
   ]
  },
  {
   "cell_type": "code",
   "execution_count": 3,
   "metadata": {
    "collapsed": true
   },
   "outputs": [],
   "source": [
    "# create a placeholder of type float 32-bit, shape is a vector of 3 elements\n",
    "a = tf.placeholder(tf.float32, shape=[3])\n",
    "# create a constant of type float 32-bit, shape is a vector of 3 elements\n",
    "# shape=None is easy to construct graphs, but nightmarish for debugging\n",
    "b = tf.constant([5, 5, 5], tf.float32)\n",
    "# use the placeholder as you would a constant or a variable\n",
    "c = a + b # Short for tf.add(a, b)\n",
    "#with tf.Session() as sess:\n",
    "#    print(sess.run(c)) # Error because a doesn’t have any value"
   ]
  },
  {
   "cell_type": "code",
   "execution_count": 4,
   "metadata": {},
   "outputs": [
    {
     "name": "stdout",
     "output_type": "stream",
     "text": [
      "[ 6.  7.  8.]\n"
     ]
    }
   ],
   "source": [
    "# Feed the values to placeholders using a dictionary\n",
    "with tf.Session() as sess:\n",
    "# feed [1, 2, 3] to placeholder a via the dict {a: [1, 2, 3]}\n",
    "# fetch value of c\n",
    "    print(sess.run(c, {a: [1, 2, 3]})) # the tensor a is the key, not the string ‘a’"
   ]
  },
  {
   "cell_type": "markdown",
   "metadata": {},
   "source": [
    "### 4. feed multiple data points in\n",
    "feed all the values in, one at a time"
   ]
  },
  {
   "cell_type": "code",
   "execution_count": 5,
   "metadata": {
    "collapsed": true
   },
   "outputs": [],
   "source": [
    "#with tf.Session() as sess:\n",
    "#    for a_value in list_of_values_for_a:\n",
    "#        print sess.run(c, {a: a_value})"
   ]
  },
  {
   "cell_type": "markdown",
   "metadata": {
    "collapsed": true
   },
   "source": [
    "`tf.Graph.is_feedable(tensor)`: true iff tensor is feedable."
   ]
  },
  {
   "cell_type": "markdown",
   "metadata": {},
   "source": [
    "### 5. Feeding values to TF ops"
   ]
  },
  {
   "cell_type": "code",
   "execution_count": 2,
   "metadata": {},
   "outputs": [],
   "source": [
    "import tensorflow as tf\n",
    "# create operations, tensors, etc (using the default graph)\n",
    "a = tf.add(2, 5)\n",
    "b = tf.multiply(a, 3)\n",
    "with tf.Session() as sess:\n",
    "    # define a dictionary that says to replace the value of 'a' with 15\n",
    "    replace_dict = {a: 15}\n",
    "    # Run the session, passing in 'replace_dict' as the value to 'feed_dict'\n",
    "    sess.run(b, feed_dict=replace_dict) # returns 45\n"
   ]
  },
  {
   "cell_type": "markdown",
   "metadata": {},
   "source": [
    "### 6.  trap of lazy loading\n",
    "normal loading"
   ]
  },
  {
   "cell_type": "code",
   "execution_count": null,
   "metadata": {
    "collapsed": true
   },
   "outputs": [],
   "source": [
    "x = tf.Variable(10, name='x')\n",
    "y = tf.Variable(20, name='y')\n",
    "z = tf.add(x, y) # you create the node for add node before executing the graph\n",
    "with tf.Session() as sess:\n",
    "    sess.run(tf.global_variables_initializer())\n",
    "    writer = tf.summary.FileWriter('./my_graph/l2', sess.graph)\n",
    "    for _ in range(10):\n",
    "        sess.run(z)\n",
    "    writer.close()"
   ]
  },
  {
   "cell_type": "markdown",
   "metadata": {},
   "source": [
    "lazy loading: Defer creating/initializing an object until it is needed"
   ]
  },
  {
   "cell_type": "code",
   "execution_count": null,
   "metadata": {
    "collapsed": true
   },
   "outputs": [],
   "source": [
    "x = tf.Variable(10, name='x')\n",
    "y = tf.Variable(20, name='y')\n",
    "with tf.Session() as sess:\n",
    "    sess.run(tf.global_variables_initializer())\n",
    "    writer = tf.summary.FileWriter('./my_graph/l2', sess.graph)\n",
    "    for _ in range(10):\n",
    "        sess.run(tf.add(x, y)) # someone decides to be clever to save one line of code\n",
    "    writer.close()"
   ]
  },
  {
   "cell_type": "markdown",
   "metadata": {},
   "source": [
    "difference: lazy loading will miss the node Add\n",
    "\n",
    "- normal loading: Node “Add” added once to the graph definition  \n",
    "    node {\n",
    "        name: \"Add\"\n",
    "        op: \"Add\"\n",
    "        input: \"x/read\"\n",
    "        input: \"y/read\"\n",
    "        attr {\n",
    "            key: \"T\"\n",
    "            value {\n",
    "                type: DT_INT32\n",
    "            }\n",
    "        }\n",
    "    }\n",
    "\n",
    "- lazy loading: Node “Add” added 10 times to the graph definition. for more loops, graph gets bloated, Slow to load, Expensive to pass around  \n",
    "    node {\n",
    "        name: \"Add\"\n",
    "        op: \"Add\"\n",
    "        ...\n",
    "    }\n",
    "    ...\n",
    "    node {\n",
    "        name: \"Add_9\"\n",
    "        op: \"Add\"\n",
    "        ...\n",
    "    }\n",
    "      \n",
    "**solution**: \n",
    "- Separate definition of ops from computing/running ops\n",
    "- Use Python property to ensure function is also loaded once the first time it is called"
   ]
  },
  {
   "cell_type": "code",
   "execution_count": null,
   "metadata": {
    "collapsed": true
   },
   "outputs": [],
   "source": []
  }
 ],
 "metadata": {
  "kernelspec": {
   "display_name": "Python 3",
   "language": "python",
   "name": "python3"
  },
  "language_info": {
   "codemirror_mode": {
    "name": "ipython",
    "version": 3
   },
   "file_extension": ".py",
   "mimetype": "text/x-python",
   "name": "python",
   "nbconvert_exporter": "python",
   "pygments_lexer": "ipython3",
   "version": "3.6.1"
  }
 },
 "nbformat": 4,
 "nbformat_minor": 2
}
